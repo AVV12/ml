{
 "cells": [
  {
   "attachments": {
    "CUNEFlogo.png": {
     "image/png": "[encoded data removed]"
    }
   },
   "cell_type": "markdown",
   "metadata": {},
   "source": [
    "![CUNEFlogo.png](attachment:CUNEFlogo.png)\n",
    "#  <font color=orange> Notebook: Shallow Learning en Series Temporales</font>\n",
    "## Máster de Ciencia de Datos\n",
    "### Modelos de Inteligencia Artificial\n",
    "\n",
    "<b> Profesor: </b> Wolfram Rozas. <b> Departamento: </b> Métodos Cuantitativos\n",
    "___________________________________________________________________________________________\n",
    "__Resumen__\n",
    "\n",
    "\n",
    "En este notebook se muestran una serie de conceptos básicos de Deep Learning en Python con Pytorch.\n",
    "___________________________________________________________________________________________"
   ]
  },
  {
   "cell_type": "code",
   "execution_count": 1,
   "metadata": {},
   "outputs": [],
   "source": [
    "import numpy as np\n",
    "import torch\n",
    "import matplotlib.pyplot as plt\n",
    "%matplotlib inline "
   ]
  },
  {
   "cell_type": "markdown",
   "metadata": {},
   "source": [
    "# Tensores\n",
    "\n",
    "Los tensores constituyen el elemento base de Pytorch y aportan gran parte de su funcionalidad y potencia. En la práctica, son elementos equivalentes a arrays de _numpy_ con la adición de:\n",
    " - Capacidad de almacenarlos y operar con ellos indistintamente en CPU y GPU.\n",
    " - Seguimiento automático de las operaciones realizadas para el cálculo automático de derivadas.\n",
    " \n",
    "## Operaciones básicas\n",
    "\n",
    "Un tensor se define de la misma forma que un array de *numpy*:"
   ]
  },
  {
   "cell_type": "code",
   "execution_count": 2,
   "metadata": {},
   "outputs": [
    {
     "name": "stdout",
     "output_type": "stream",
     "text": [
      "tensor([0, 1, 2, 8, 1])\n",
      "<class 'torch.Tensor'>\n",
      "torch.int64\n"
     ]
    }
   ],
   "source": [
    "t1 = torch.tensor([0,1,2,8,1]) # definimos un vector con elementos [0,1,2,2,1]\n",
    "print(t1)\n",
    "print(type(t1))\n",
    "print(t1.dtype)"
   ]
  },
  {
   "cell_type": "markdown",
   "metadata": {},
   "source": [
    "y se puede indexar y operar de la misma forma que un array de *numpy*:"
   ]
  },
  {
   "cell_type": "code",
   "execution_count": 3,
   "metadata": {},
   "outputs": [
    {
     "data": {
      "text/plain": [
       "tensor(8)"
      ]
     },
     "execution_count": 3,
     "metadata": {},
     "output_type": "execute_result"
    }
   ],
   "source": [
    "t1[3] # devuelve un tensor que contiene solo el 4º elemento"
   ]
  },
  {
   "cell_type": "code",
   "execution_count": 4,
   "metadata": {},
   "outputs": [
    {
     "data": {
      "text/plain": [
       "tensor([-3, -1,  1, 13, -1])"
      ]
     },
     "execution_count": 4,
     "metadata": {},
     "output_type": "execute_result"
    }
   ],
   "source": [
    "t1*2 - 3 # multiplica t1 por 2 y le resta 3"
   ]
  },
  {
   "cell_type": "markdown",
   "metadata": {},
   "source": [
    "Podemos especificar el tipo de datos que contiene el tensor. Los mas utilizados son _float_ (número con decimales de 32 bits) y _long_ (número entero de 64 bit). "
   ]
  },
  {
   "cell_type": "code",
   "execution_count": 5,
   "metadata": {},
   "outputs": [
    {
     "data": {
      "text/plain": [
       "tensor([31231,     1,    42])"
      ]
     },
     "execution_count": 5,
     "metadata": {},
     "output_type": "execute_result"
    }
   ],
   "source": [
    "torch.tensor([31231,1,42], dtype=torch.long)"
   ]
  },
  {
   "cell_type": "code",
   "execution_count": 6,
   "metadata": {},
   "outputs": [
    {
     "data": {
      "text/plain": [
       "tensor([3.1231e+04, 1.0000e+00, 4.2000e+01])"
      ]
     },
     "execution_count": 6,
     "metadata": {},
     "output_type": "execute_result"
    }
   ],
   "source": [
    "torch.tensor([31231,1,42], dtype=torch.float)"
   ]
  },
  {
   "cell_type": "markdown",
   "metadata": {},
   "source": [
    "Nota: el tipo habitual en python (y numpy) para números con decimales es el _float_ de 64 bits. Su equivalente en Pytorch es _double_ (o float64), pero lo habitual es convertir los datos al _float_ de Pytorch (de 32 bits) porque las operaciones en las GPUs suelen ser mucho mas rápidas con *float32*, y las variables ocupan menos memoria."
   ]
  },
  {
   "cell_type": "markdown",
   "metadata": {},
   "source": [
    "## Operaciones en CPU y GPU\n",
    "\n",
    "Un tensor puede existir en un _device_. Un _device_ es una CPU o GPU concreta de nuestro sistema. En la mayoría de los casos, en los sistemas personales solo hay una CPU, y a veces una GPU, y las opciones suelen reducirse a \"almacenar tensor en CPU\" o \"almacenar tensor en GPU\".\n",
    "\n",
    "El fabricante NVIDIA desarrolló __CUDA (Compute Unified Device Architecture)__. Es una plataforma de computación paralela y una interfaz de programación de aplicaciones (API) que permite que el software utilice ciertos tipos de unidad de procesamiento de gráficos (GPU) para procesamiento de propósito general, un enfoque llamado computación de propósito general en GPU (GPGPU). CUDA es una capa de software que brinda acceso directo al conjunto de instrucciones virtuales de la GPU y elementos computacionales paralelos, para la ejecución de núcleos de cómputo.\n",
    "\n",
    "La unidad de procesamiento de gráficos (GPU), como procesador especializado, aborda areas de computación intensiva de gráficos 3D de alta resolución en tiempo real. En 2012, las GPU se habían convertido en sistemas multinúcleo altamente paralelos que permitían una manipulación muy eficiente de grandes bloques de datos. Este diseño es más efectivo que la unidad central de procesamiento (CPU) de propósito general para algoritmos en situaciones en las que el procesamiento de grandes bloques de datos se realiza en paralelo, como Deep Learning."
   ]
  },
  {
   "cell_type": "markdown",
   "metadata": {},
   "source": [
    "![alt text](CPU-GPU_devices.png)"
   ]
  },
  {
   "cell_type": "code",
   "execution_count": 7,
   "metadata": {},
   "outputs": [
    {
     "data": {
      "text/plain": [
       "device(type='cpu', index=0)"
      ]
     },
     "execution_count": 7,
     "metadata": {},
     "output_type": "execute_result"
    }
   ],
   "source": [
    "torch.device(\"cpu:0\") # cpu número 0"
   ]
  },
  {
   "cell_type": "code",
   "execution_count": 8,
   "metadata": {},
   "outputs": [
    {
     "data": {
      "text/plain": [
       "device(type='cuda', index=0)"
      ]
     },
     "execution_count": 8,
     "metadata": {},
     "output_type": "execute_result"
    }
   ],
   "source": [
    "torch.device(\"cuda:0\") # gpu número 0"
   ]
  },
  {
   "cell_type": "markdown",
   "metadata": {},
   "source": [
    "Se puede especificar 'cpu' o 'cuda' sin número para coger la CPU/GPU por defecto del sistema. "
   ]
  },
  {
   "cell_type": "code",
   "execution_count": 9,
   "metadata": {},
   "outputs": [
    {
     "data": {
      "text/plain": [
       "device(type='cuda')"
      ]
     },
     "execution_count": 9,
     "metadata": {},
     "output_type": "execute_result"
    }
   ],
   "source": [
    "torch.device(\"cuda\")"
   ]
  },
  {
   "cell_type": "code",
   "execution_count": 10,
   "metadata": {},
   "outputs": [
    {
     "data": {
      "text/plain": [
       "False"
      ]
     },
     "execution_count": 10,
     "metadata": {},
     "output_type": "execute_result"
    }
   ],
   "source": [
    "torch.cuda.is_available()"
   ]
  },
  {
   "cell_type": "markdown",
   "metadata": {},
   "source": [
    "Por defecto, los tensores se definen en la CPU, pero se puede especificar el _device_ de la siguiente manera:"
   ]
  },
  {
   "cell_type": "code",
   "execution_count": 11,
   "metadata": {},
   "outputs": [],
   "source": [
    "t2_cpu = torch.tensor([-2, 4, 2, 0, 1.123], device='cpu')\n",
    "#t3_gpu = torch.tensor([-1, 24, -2, 0.1, -15], device='cuda') SOLO si esta presente "
   ]
  },
  {
   "cell_type": "code",
   "execution_count": 12,
   "metadata": {},
   "outputs": [
    {
     "data": {
      "text/plain": [
       "tensor([-2.0000,  4.0000,  2.0000,  0.0000,  1.1230])"
      ]
     },
     "execution_count": 12,
     "metadata": {},
     "output_type": "execute_result"
    }
   ],
   "source": [
    "t2_cpu"
   ]
  },
  {
   "cell_type": "code",
   "execution_count": 13,
   "metadata": {},
   "outputs": [],
   "source": [
    "t3_gpu = torch.tensor([-1, 24, -2, 0.1, -15], device='cpu')"
   ]
  },
  {
   "cell_type": "code",
   "execution_count": 14,
   "metadata": {},
   "outputs": [
    {
     "data": {
      "text/plain": [
       "tensor([ -1.0000,  24.0000,  -2.0000,   0.1000, -15.0000])"
      ]
     },
     "execution_count": 14,
     "metadata": {},
     "output_type": "execute_result"
    }
   ],
   "source": [
    "t3_gpu"
   ]
  },
  {
   "cell_type": "markdown",
   "metadata": {},
   "source": [
    "No podemos operar con tensores almacenados en distintos *devices*:"
   ]
  },
  {
   "cell_type": "code",
   "execution_count": 15,
   "metadata": {},
   "outputs": [
    {
     "data": {
      "text/plain": [
       "tensor([ -3.0000,  28.0000,   0.0000,   0.1000, -13.8770])"
      ]
     },
     "execution_count": 15,
     "metadata": {},
     "output_type": "execute_result"
    }
   ],
   "source": [
    "t2_cpu + t3_gpu # Esta operación produce un error (mezclamos operaciones en CPU y GPU)"
   ]
  },
  {
   "cell_type": "markdown",
   "metadata": {},
   "source": [
    "Podemos mover tensores entre _devices_ (pero cuidado: eso mueve físicamente los valores entre las memorias de los _devices_ y es una operación lenta)."
   ]
  },
  {
   "cell_type": "code",
   "execution_count": 16,
   "metadata": {},
   "outputs": [
    {
     "data": {
      "text/plain": [
       "torch.float32"
      ]
     },
     "execution_count": 16,
     "metadata": {},
     "output_type": "execute_result"
    }
   ],
   "source": [
    "t3_gpu.dtype"
   ]
  },
  {
   "cell_type": "code",
   "execution_count": 17,
   "metadata": {},
   "outputs": [
    {
     "data": {
      "text/plain": [
       "tensor([ -3.0000,  28.0000,   0.0000,   0.1000, -13.8770])"
      ]
     },
     "execution_count": 17,
     "metadata": {},
     "output_type": "execute_result"
    }
   ],
   "source": [
    "t2_cpu + t3_gpu.to('cpu') # Esta operación se realiza en la CPU"
   ]
  },
  {
   "cell_type": "code",
   "execution_count": 18,
   "metadata": {},
   "outputs": [],
   "source": [
    "#t2_cpu.to('cuda') + t3_gpu # # Esta operación se realiza en la GPU"
   ]
  },
  {
   "cell_type": "markdown",
   "metadata": {},
   "source": [
    "En la práctica se suele establecer una variable _device_ al inicio del código para especificar dónde se realizan las operaciones, para poder cambiarlo facilmente."
   ]
  },
  {
   "cell_type": "code",
   "execution_count": 19,
   "metadata": {},
   "outputs": [],
   "source": [
    "# Este código fallará si la máquina no tiene GPUs\n",
    "\n",
    "#dev = torch.device('cpu')\n",
    "#print(dev)\n",
    "#t4 = torch.tensor([0,0,0,0,1], device=dev)\n",
    "#dev2 = torch.device('cuda')\n",
    "#print(dev2)\n",
    "#t42 = torch.tensor([0,0,0,0,1], device=dev2)"
   ]
  },
  {
   "cell_type": "markdown",
   "metadata": {},
   "source": [
    "## Interacción con _Numpy_\n",
    "\n",
    "Se puede definir un tensor directamente a partir de un array *numpy*, y obtener un *array* numpy a partir de un tensor. En particular, estas operaciones no suponen la copia de los datos (siempre que no se modifique el 'dtype'), con lo que se pueden 'ver' los datos como si fuera un objeto *numpy* de cara al resto de librerías que utilizan *numpy*, y ver los datos como tensor para las operaciones en Pytorch."
   ]
  },
  {
   "cell_type": "markdown",
   "metadata": {},
   "source": [
    "Para generar un tensor a partir de un _numpy_ hay principalmente dos maneras de hacerlo. La forma mas directa (sin copia de datos) es con *torch.from_numpy*:"
   ]
  },
  {
   "cell_type": "code",
   "execution_count": 20,
   "metadata": {},
   "outputs": [
    {
     "data": {
      "text/plain": [
       "array([-2.   ,  4.   ,  2.   ,  0.   ,  1.123])"
      ]
     },
     "execution_count": 20,
     "metadata": {},
     "output_type": "execute_result"
    }
   ],
   "source": [
    "np1 = np.array([-2, 4, 2, 0, 1.123])\n",
    "np1.dtype # float64\n",
    "np1"
   ]
  },
  {
   "cell_type": "code",
   "execution_count": 21,
   "metadata": {},
   "outputs": [
    {
     "data": {
      "text/plain": [
       "tensor([-2.0000,  4.0000,  2.0000,  0.0000,  1.1230], dtype=torch.float64)"
      ]
     },
     "execution_count": 21,
     "metadata": {},
     "output_type": "execute_result"
    }
   ],
   "source": [
    "torch.from_numpy(np1) # conserva el dtype: tensor float64"
   ]
  },
  {
   "cell_type": "markdown",
   "metadata": {},
   "source": [
    "Sin embargo, la mayoría de las veces queremos utilizar tensores *float32*, y podemos hacerlo creando un tensor y forzando el _dtype_ (esto _sí_ copia los datos):"
   ]
  },
  {
   "cell_type": "code",
   "execution_count": 22,
   "metadata": {},
   "outputs": [
    {
     "name": "stdout",
     "output_type": "stream",
     "text": [
      "tensor([-2.0000,  4.0000,  2.0000,  0.0000,  1.1230])\n",
      "torch.float32\n"
     ]
    }
   ],
   "source": [
    "t_np = torch.tensor(np1, dtype=torch.float)\n",
    "print(t_np)\n",
    "print(t_np.dtype)"
   ]
  },
  {
   "cell_type": "markdown",
   "metadata": {},
   "source": [
    "Para 'ver' los datos de un tensor como un _numpy_, simplemente usamos _.numpy()_:"
   ]
  },
  {
   "cell_type": "code",
   "execution_count": 23,
   "metadata": {},
   "outputs": [
    {
     "data": {
      "text/plain": [
       "array([-2.   ,  4.   ,  2.   ,  0.   ,  1.123], dtype=float32)"
      ]
     },
     "execution_count": 23,
     "metadata": {},
     "output_type": "execute_result"
    }
   ],
   "source": [
    "t_np.numpy()"
   ]
  },
  {
   "cell_type": "markdown",
   "metadata": {},
   "source": [
    "# Derivadas\n",
    "\n",
    "La segunda característica importante de los tensores de Pytorch es que permiten calcular derivadas con respecto a ellos de cualquier cantidad calculada a partir de ellos. \n",
    "\n",
    "La derivada de una función con respecto a una variable que intervenga en su cálculo nos da una idea de cómo cambia la función al modificar 'ligeramente' dicha variable. Por ejemplo, si la derivada de $f(x)$ con respecto a $x$ es $-3$, significa que si aumentamos $x$ en $0.1$ el valor de $f$ cambiará (aprox.) en $-0.3$ (es decir, disminuirá).\n",
    "\n",
    "La capacidad para estimar estas derivadas de forma automática y eficiente (y en GPUs) es, como veremos mas adelante, lo que ha permitido el desarrollo del Deep Learning moderno."
   ]
  },
  {
   "cell_type": "markdown",
   "metadata": {},
   "source": [
    "## Obtención de derivadas - Método de Propagación hacia atrás (*Backpropagation*)"
   ]
  },
  {
   "cell_type": "markdown",
   "metadata": {},
   "source": [
    "Para mostrar el funcionamiento de forma mas intuitiva vamos a obtener la derivada de estas funciones sencillas:\n",
    "\n",
    " - $f(x) = 3x^2 + 2x - 3$:\n",
    "     - $f_x(x) = 6x + 2$\n",
    "     \n",
    "     \n",
    " - $g(x,y,z) = 5 x y + 3x^2 + 2y - y z$:\n",
    "     - $g_x(x,y,z) = 5y + 6x$\n",
    "     - $g_y(x,y,z) = 5x + 2 - z$"
   ]
  },
  {
   "cell_type": "markdown",
   "metadata": {},
   "source": [
    "Definimos las funciones en Python"
   ]
  },
  {
   "cell_type": "code",
   "execution_count": 24,
   "metadata": {},
   "outputs": [],
   "source": [
    "def f(x):\n",
    "    return 3*x*x + 2*x - 3\n",
    "def g(x,y,z):\n",
    "    return 5*x*y + 3*x*x + 2*y - y*z"
   ]
  },
  {
   "cell_type": "markdown",
   "metadata": {},
   "source": [
    "Creamos los valores de *x e y* donde queremos evaluar nuestras derivadas. \n",
    "\n",
    "Podemos especificar si querremos obtener derivadas con respecto a un tensor en particular a la hora de crearlo (en este caso sí queremos conocer las de *x e y*):"
   ]
  },
  {
   "cell_type": "code",
   "execution_count": 25,
   "metadata": {},
   "outputs": [],
   "source": [
    "t_x = torch.tensor(2, dtype=torch.float, requires_grad=True) # con derivada\n",
    "t_y = torch.tensor(-1, dtype=torch.float, requires_grad=True) # con derivada\n",
    "t_z = torch.tensor(3, dtype=torch.float, requires_grad=False) # sin derivada\n",
    "# requires_grad = True – If autograd should record operations on the returned tensor.  \n",
    "# Default: False."
   ]
  },
  {
   "cell_type": "code",
   "execution_count": 26,
   "metadata": {},
   "outputs": [
    {
     "data": {
      "text/plain": [
       "tensor(2., requires_grad=True)"
      ]
     },
     "execution_count": 26,
     "metadata": {},
     "output_type": "execute_result"
    }
   ],
   "source": [
    "t_x"
   ]
  },
  {
   "cell_type": "markdown",
   "metadata": {},
   "source": [
    "Nota: por defecto __requires_grad=False__, ya que acumular las derivadas de los tensores consume bastante memoria y no tiene sentido hacerlo a menos que sea necesario. En particular, si un tensor tiene 'requires_grad=True', todos los tensores calculados a partir de el también lo tendrán."
   ]
  },
  {
   "cell_type": "markdown",
   "metadata": {},
   "source": [
    "Empezamos por la función $f(x)$ y calculamos su valor en el punto _x_ que hemos definido antes:"
   ]
  },
  {
   "cell_type": "code",
   "execution_count": 27,
   "metadata": {},
   "outputs": [
    {
     "data": {
      "text/plain": [
       "tensor(13., grad_fn=<SubBackward0>)"
      ]
     },
     "execution_count": 27,
     "metadata": {},
     "output_type": "execute_result"
    }
   ],
   "source": [
    "t_f = f(t_x) # evalúa la función f con el tensor t_x que vale 2. Por tanto devuelve 3.2.2 +2.2 -3 = 13\n",
    "t_f "
   ]
  },
  {
   "cell_type": "markdown",
   "metadata": {},
   "source": [
    "Hemos calculado $f(2) = 3*2^2 + 2*2 -3 = 13$. "
   ]
  },
  {
   "cell_type": "markdown",
   "metadata": {},
   "source": [
    "Una vez efectuado el cálculo, simplemente tenemos que llamar a la función __backward()__ para retropropagar las derivadas:"
   ]
  },
  {
   "cell_type": "code",
   "execution_count": 28,
   "metadata": {},
   "outputs": [],
   "source": [
    "t_f.backward() #ejecuta la retropropagación"
   ]
  },
  {
   "cell_type": "markdown",
   "metadata": {},
   "source": [
    "Podemos almacenarlas derivadas de nuestra función con respecto a todas las variables que tengan 'requires_grad=True' de la siguiente manera (en el caso de _f_ solo tenemos _x_):"
   ]
  },
  {
   "cell_type": "code",
   "execution_count": 29,
   "metadata": {},
   "outputs": [
    {
     "data": {
      "text/plain": [
       "tensor(14.)"
      ]
     },
     "execution_count": 29,
     "metadata": {},
     "output_type": "execute_result"
    }
   ],
   "source": [
    "t_x.grad # derivada de d_f con respecto a t_x en el punto t_x"
   ]
  },
  {
   "cell_type": "markdown",
   "metadata": {},
   "source": [
    "Comprobamos que es correcto: hemos calculado $f_x(2) = 6*2 + 2$.\n",
    "\n",
    "La función *t_f.backward()* recorre todas las variables implicadas en el cálculo de *t_f* y guarda en __.grad__ el valor de la derivada de *t_f* con respecto a dicha variable. "
   ]
  },
  {
   "attachments": {
    "image.png": {
     "image/png": "[encoded data removed]"
    }
   },
   "cell_type": "markdown",
   "metadata": {},
   "source": [
    "**¿Como calcula Pytorch las derivadas?**\n",
    "\n",
    "Al calcular el valor de la función $f$ en nuestro punto $x=2$ con *t_f = f(t_x)*, Pytorch ha generado el grafo computacional y ha calculado la propagación hacia adelante:\n",
    "\n",
    "![image.png](attachment:image.png)"
   ]
  },
  {
   "attachments": {
    "image.png": {
     "image/png": "[encoded data removed]"
    }
   },
   "cell_type": "markdown",
   "metadata": {},
   "source": [
    "Al llamar a la función __t_f.backward()__, Pytorch ha propagado las derivadas hacia atrás en el grafo (utilizando la __regla de la cadena__ de las derivadas) para obtener la derivada de $f$ con respecto a $x$. Es lo que se conoce como retropropagación (*backpropagation*).\n",
    "\n",
    "![image.png](attachment:image.png)"
   ]
  },
  {
   "cell_type": "markdown",
   "metadata": {},
   "source": [
    "Podemos hacer lo mismo para la función $g$ que depende de $x$,$y$ y $z$:"
   ]
  },
  {
   "cell_type": "code",
   "execution_count": 30,
   "metadata": {},
   "outputs": [
    {
     "data": {
      "text/plain": [
       "tensor(3., grad_fn=<SubBackward0>)"
      ]
     },
     "execution_count": 30,
     "metadata": {},
     "output_type": "execute_result"
    }
   ],
   "source": [
    "t_g = g(t_x, t_y, t_z)\n",
    "t_g"
   ]
  },
  {
   "cell_type": "markdown",
   "metadata": {},
   "source": [
    "Hemos calculado $g(2,-1,3) = 5*2*(-1) + 3*2^2 + 2*(-1) - (-1)*3 = 3$. Para generar las derivadas con respecto a *t_x* y a *t_y* llamamos a *t_g.backward()*. (nota: primero debemos borrar la derivada de la función anterior guardada en el tensor *t_x*)."
   ]
  },
  {
   "cell_type": "code",
   "execution_count": 31,
   "metadata": {},
   "outputs": [
    {
     "data": {
      "text/plain": [
       "tensor(0.)"
      ]
     },
     "execution_count": 31,
     "metadata": {},
     "output_type": "execute_result"
    }
   ],
   "source": [
    "t_x.grad.zero_()\n",
    "t_x.grad"
   ]
  },
  {
   "cell_type": "code",
   "execution_count": 32,
   "metadata": {},
   "outputs": [
    {
     "name": "stdout",
     "output_type": "stream",
     "text": [
      "tensor(7.)\n",
      "tensor(9.)\n"
     ]
    }
   ],
   "source": [
    "t_g.backward()\n",
    "print(t_x.grad)\n",
    "print(t_y.grad)"
   ]
  },
  {
   "cell_type": "markdown",
   "metadata": {},
   "source": [
    "Comprobamos que es correcto. Hemos calculado:\n",
    " - $g_x(2,-1,3) = 5*(-1) + 6*2 = 7$\n",
    " - $g_y(2,-1,3) = 5*2 + 2 - 3 = 9$"
   ]
  },
  {
   "cell_type": "markdown",
   "metadata": {},
   "source": [
    "Nota: como no hemos especificado 'requires_grad=True' para *t_z*, tenemos que:"
   ]
  },
  {
   "cell_type": "code",
   "execution_count": 33,
   "metadata": {},
   "outputs": [
    {
     "name": "stdout",
     "output_type": "stream",
     "text": [
      "None\n"
     ]
    }
   ],
   "source": [
    "print(t_z.grad)"
   ]
  },
  {
   "cell_type": "markdown",
   "metadata": {},
   "source": [
    "## ¿Por qué necesitamos derivadas?\n",
    "\n",
    "El aprendizaje de una red neuronal consiste en la modificación iterativa de los parámetros para minimizar una función de pérdida que determina cuanto se ajustan nuestras predicciones a los datos. Para obtener las mejores predicciones, tenemos que encontrar los parámetros que minimicen la pérdida. \n",
    "\n",
    "En cada iteración, las derivadas nos indican en que dirección movernos para disminuir la pérdida. Una de las técnicas de entrenamiento mas sencillas es el optimizador Descenso del Gradiente Estocástico) que consiste simplemente en moverse en la dirección opuesta al gradiente (derivada).\n",
    "\n",
    "Veamos un ejemplo con nuestra función $f(x) = 3x^2 + 2x -3$."
   ]
  },
  {
   "cell_type": "markdown",
   "metadata": {},
   "source": [
    "Primero inicializamos nuestro $x$ de partida con $x = 2$."
   ]
  },
  {
   "cell_type": "code",
   "execution_count": 34,
   "metadata": {},
   "outputs": [],
   "source": [
    "t_x = torch.tensor(2, dtype=torch.float, requires_grad=True) # con derivada\n",
    "lx1 = [] # Estas dos listas son para almacenar los valores por los que pasamos y dibujarlos\n",
    "lf1 = []"
   ]
  },
  {
   "cell_type": "markdown",
   "metadata": {},
   "source": [
    "Definimos la función p3 para que se vea la minimización de la pérdida"
   ]
  },
  {
   "cell_type": "code",
   "execution_count": 35,
   "metadata": {},
   "outputs": [],
   "source": [
    "x1_pl = np.arange(-3.5, 3, 0.05)\n",
    "f1_pl = f(x1_pl)\n",
    "def p3(l_x, l_f):\n",
    "    \n",
    "    plt.figure(figsize=(20,10))\n",
    "    plt.plot(x1_pl, f1_pl, 'bo')\n",
    "    plt.plot(l_x, l_f, 'r.-', markersize=20, linewidth=4)\n",
    "    plt.show()"
   ]
  },
  {
   "cell_type": "markdown",
   "metadata": {},
   "source": [
    "Ahora comenzamos a dar __pasos__ en la dirección del gradiente. En cada paso, calcularemos y dibujaremos el progreso hasta llegar a la convergencia.\n",
    "\n",
    "En cada paso del proceso nos acercamos al mínimo de la función $f$, hasta que la mejora se hace casi imperceptible."
   ]
  },
  {
   "cell_type": "code",
   "execution_count": 36,
   "metadata": {},
   "outputs": [
    {
     "name": "stdout",
     "output_type": "stream",
     "text": [
      "iter=1, x=2.000, f(x)=13.000, f'(x)=14.000\n"
     ]
    },
    {
     "ename": "",
     "evalue": "",
     "output_type": "error",
     "traceback": [
      "\u001b[1;31mThe Kernel crashed while executing code in the the current cell or a previous cell. Please review the code in the cell(s) to identify a possible cause of the failure. Click <a href='https://aka.ms/vscodeJupyterKernelCrash'>here</a> for more info. View Jupyter <a href='command:jupyter.viewOutput'>log</a> for further details."
     ]
    }
   ],
   "source": [
    "for i in range(1,35):\n",
    "    \n",
    "    t_f = f(t_x) # hacemos el 'forward pass': generamos el grafo y calculamos el valor de f en nuestro punto x\n",
    "    t_f.backward() # hacemos el 'backward pass': calculamos la derivada de f en nuestro punto x\n",
    "\n",
    "    lx1.append(t_x.item()) # almacenamos los valores de x y f para dibujarlos\n",
    "    lf1.append(t_f.item())\n",
    "\n",
    "    print(\"iter={:}, x={:.3f}, f(x)={:.3f}, f'(x)={:.3f}\".format(i, t_x.item(), t_f.item(), t_x.grad.item()))\n",
    "    # imprimimos los valores de x, y, derivada \n",
    "    plt.clf()\n",
    "    p3(lx1, lf1) # dibujamos el estado actual llamando a la función p3 que dibuja el gráfico añadiendo puntos (x,y)\n",
    "\n",
    "    \n",
    "    with torch.no_grad(): # para indicar a Pytorch que vamos a modificar una variable con requires_grad=True\n",
    "        t_x -= 0.05*t_x.grad # damos un paso en la dirección del gradiente, multiplicado por un 'learning rate' de 0.05\n",
    "        t_x.grad.zero_() # borramos el valor del gradiente para la siguiente iteración\n"
   ]
  },
  {
   "cell_type": "markdown",
   "metadata": {},
   "source": [
    "Nota: El mínimo se produce cuando la derivada es cero. Se llega a este punto en la iteración 31 con esta <i>learning rate</i> (0,05).  En este punto la función $f(-1/3) = 3 (-2/3)^2 + 2(-2/3) - 3 = 10/3$"
   ]
  },
  {
   "cell_type": "code",
   "execution_count": null,
   "metadata": {},
   "outputs": [],
   "source": []
  }
 ],
 "metadata": {
  "kernelspec": {
   "display_name": "Python 3 (ipykernel)",
   "language": "python",
   "name": "python3"
  },
  "language_info": {
   "codemirror_mode": {
    "name": "ipython",
    "version": 3
   },
   "file_extension": ".py",
   "mimetype": "text/x-python",
   "name": "python",
   "nbconvert_exporter": "python",
   "pygments_lexer": "ipython3",
   "version": "3.7.16"
  }
 },
 "nbformat": 4,
 "nbformat_minor": 2
}
